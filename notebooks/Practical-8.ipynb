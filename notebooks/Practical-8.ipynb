{
 "metadata": {
  "name": "",
  "signature": "sha256:a3b44a1f5f732f5c674e1bc942d168b2c8d5058a6201682cee61d1c23ee47951"
 },
 "nbformat": 3,
 "nbformat_minor": 0,
 "worksheets": [
  {
   "cells": [
    {
     "cell_type": "markdown",
     "metadata": {},
     "source": [
      "# Chi-squared Test\n",
      "\n",
      "##Determine whether marks classifications for a course are atypical\n",
      "\n",
      "Analysis of 2000 overall course marks from ESESIS shows that the typical marks breakdown is as follows:\n",
      "\n",
      "Fail: 4.3%\t3rd: 9.5%\t2ii: 18.4%\t2i: 38.4%\t1st: 29.4%\n",
      "\n",
      "Now consider the following distribution of results:\n",
      "\n",
      "|Grade  |Number of students|\n",
      "|:------|:-----------------|\n",
      "|Failed | 3                |\n",
      "|3rd    | 10               |\n",
      "|2ii    | 23               |\n",
      "|2i     | 30               |\n",
      "|1st    | 20               |\n",
      "\n",
      "**Are these results atypical?**\n",
      "\n",
      "## Tip 1: The chi-squared test is used to determine whether counts of discrete observations fit a predetermined pattern of expectations (see lecture notes).\n",
      "\n",
      "*scipy.stats.chisquare(Obs,Exp)* \u2013 carry out a Chi-squared test on arrays Obs (Observed values) and Exp (Expected values)\n",
      "\n",
      "Returns a tuple of (s_statistic, p_value), where s_statistic is the value of Chi-squared (as normal you can probably ignore this), and p_value is the (two-tailed) probability of this result occurring by chance (i.e. of the observations actually fitting the expectations). Chi-squared tests are always two tailed \u2013 they only ever test differences between observed and expected \u2013 there is no concept of \u2018direction\u2019 of difference.\n",
      "\n",
      "IMPORTANT\u2013 the function takes numpy arrays, NOT normal python list. Use numpy array function to convert. Usage example:\n",
      "\n",
      "Obs=array([20,32,17])\n",
      "\n",
      "Exp=array([17.25,34.5,17.25])\n",
      "\n",
      "s,p=chisquare(Obs,Exp)\n",
      "\n",
      "## Tip 2: State your hypothesis.\n",
      "\n",
      "H0: Course has expected classification breakdown\n",
      "\n",
      "H1: Course classification breakdown does not follow expected pattern\n",
      "\n",
      "## Tip 3: To calculate Chi-squared you need a list of expected values.\n",
      "\n",
      "Find the total of the input values (you can use the built in sum function to do this), multiply this by each percentage value given above, and divide by 100. \n",
      "\n",
      "## Tip 4: Check the test is valid.\n",
      "\n",
      "You need to check two things:\n",
      "\n",
      "1. None of your expected values should be less than 1.\n",
      "2. No more than one (i.e. more than 1/5th) of them is less than 5."
     ]
    }
   ],
   "metadata": {}
  }
 ]
}