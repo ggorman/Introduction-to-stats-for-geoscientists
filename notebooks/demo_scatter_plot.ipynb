{
 "metadata": {
  "name": "",
  "signature": "sha256:118973d9d9a36616456229e6acb4f3c96724b5bd4170e637707033b552b823a0"
 },
 "nbformat": 3,
 "nbformat_minor": 0,
 "worksheets": [
  {
   "cells": [
    {
     "cell_type": "code",
     "collapsed": false,
     "input": [
      "%pylab inline\n",
      "\n",
      "%load ../data/first_year_marks.csv"
     ],
     "language": "python",
     "metadata": {},
     "outputs": [
      {
       "output_type": "stream",
       "stream": "stdout",
       "text": [
        "Populating the interactive namespace from numpy and matplotlib\n"
       ]
      },
      {
       "output_type": "stream",
       "stream": "stderr",
       "text": [
        "WARNING: pylab import has clobbered these variables: ['array', 'record']\n",
        "`%matplotlib` prevents importing * from pylab and numpy\n"
       ]
      }
     ],
     "prompt_number": 2
    },
    {
     "cell_type": "code",
     "collapsed": false,
     "input": [
      "Field Mark,Overall Year\n",
      "50,56.5\n",
      "75,71\n",
      "70,75\n",
      "60,66.8\n",
      "65,55.5\n",
      "75,68.5\n",
      "55,58.8\n",
      "60,80.5\n",
      "65,82.5\n",
      "75,71.8\n",
      "75,55.5\n",
      "65,71\n",
      "65,66.5\n",
      "65,74.3\n",
      "50,55.3\n",
      "65,58.3\n",
      "70,66.5\n",
      "45,70\n",
      "70,63\n",
      "55,75\n",
      "55,71.8\n",
      "40,58.5\n",
      "65,68.5\n",
      "70,72.3\n",
      "80,68\n",
      "70,72.3\n",
      "70,64.5\n",
      "70,54.3\n",
      "65,75.3\n",
      "55,61\n",
      "80,76\n",
      "75,66.8\n",
      "50,62.8\n",
      "65,73.5\n",
      "65,75.8\n",
      "65,68.5\n",
      "60,69.3\n",
      "65,59.5\n",
      "60,57.3\n",
      "65,64\n",
      "65,67.5\n",
      "65,71.8\n",
      "70,75.8\n",
      "65,57.3\n",
      "70,69.5\n",
      "80,69.3\n",
      "55,74\n",
      "75,61.3\n",
      "55,65.3\n",
      "60,71.5\n",
      "70,89.8\n",
      "65,61.5\n",
      "65,67.5\n",
      "60,76\n",
      "55,75.3\n",
      "60,63.8\n",
      "80,72.5\n",
      "55,73.3\n",
      "70,72\n",
      "60,63.3\n",
      "75,74.8\n",
      "60,66.3\n",
      "70,59\n",
      "60,74.5\n",
      "65,80\n",
      "65,69.8\n",
      "85,62.5\n",
      "80,66\n",
      "70,67.5\n",
      "75,82.8\n",
      "70,71\n",
      "75,77.5\n",
      "65,64\n",
      "60,73.3\n",
      "50,62.5\n",
      "85,75.3\n",
      "70,67.8\n",
      "70,73.8\n",
      "70,61\n",
      "65,70.8\n",
      "70,69.8\n",
      "30,53.8\n"
     ],
     "language": "python",
     "metadata": {},
     "outputs": []
    },
    {
     "cell_type": "code",
     "collapsed": false,
     "input": [
      "pylab.rcParams['savefig.dpi'] = 120         # display a bit bigger than default\n",
      "\n",
      "import numpy as np\n",
      "\n",
      "# Read in the records.\n",
      "record = np.recfromcsv(\"../data/first_year_marks.csv\") \n",
      "\n",
      "print record.dtype.names"
     ],
     "language": "python",
     "metadata": {},
     "outputs": [
      {
       "output_type": "stream",
       "stream": "stdout",
       "text": [
        "('field_mark', 'overall_year')\n"
       ]
      }
     ],
     "prompt_number": 7
    },
    {
     "cell_type": "code",
     "collapsed": false,
     "input": [
      "# Convert this to numpy arrays.\n",
      "fieldmarks = np.array(record[\"field_mark\"], dtype=float)\n",
      "yearmarks = np.array(record[\"overall_year\"], dtype=float)\n",
      "\n",
      "print fieldmarks\n",
      "print yearmarks"
     ],
     "language": "python",
     "metadata": {},
     "outputs": [
      {
       "output_type": "stream",
       "stream": "stdout",
       "text": [
        "[ 50.  75.  70.  60.  65.  75.  55.  60.  65.  75.  75.  65.  65.  65.  50.\n",
        "  65.  70.  45.  70.  55.  55.  40.  65.  70.  80.  70.  70.  70.  65.  55.\n",
        "  80.  75.  50.  65.  65.  65.  60.  65.  60.  65.  65.  65.  70.  65.  70.\n",
        "  80.  55.  75.  55.  60.  70.  65.  65.  60.  55.  60.  80.  55.  70.  60.\n",
        "  75.  60.  70.  60.  65.  65.  85.  80.  70.  75.  70.  75.  65.  60.  50.\n",
        "  85.  70.  70.  70.  65.  70.  30.]\n",
        "[ 56.5  71.   75.   66.8  55.5  68.5  58.8  80.5  82.5  71.8  55.5  71.\n",
        "  66.5  74.3  55.3  58.3  66.5  70.   63.   75.   71.8  58.5  68.5  72.3\n",
        "  68.   72.3  64.5  54.3  75.3  61.   76.   66.8  62.8  73.5  75.8  68.5\n",
        "  69.3  59.5  57.3  64.   67.5  71.8  75.8  57.3  69.5  69.3  74.   61.3\n",
        "  65.3  71.5  89.8  61.5  67.5  76.   75.3  63.8  72.5  73.3  72.   63.3\n",
        "  74.8  66.3  59.   74.5  80.   69.8  62.5  66.   67.5  82.8  71.   77.5\n",
        "  64.   73.3  62.5  75.3  67.8  73.8  61.   70.8  69.8  53.8]\n"
       ]
      }
     ],
     "prompt_number": 8
    },
    {
     "cell_type": "code",
     "collapsed": false,
     "input": [
      "plot(fieldmarks,yearmarks, 'bx', markersize=5, markeredgewidth=2, zorder=3)\n",
      "                            # 'bx' - blue 'x' markers, 10 points in size, \n",
      "                            # drawn in a thickish line.\n",
      "                            # zorder=3 to make sure this is in front of grid\n",
      "\n",
      "# Not labeling a graph is unforgivable. This is the minimum that should be in any graph.  \n",
      "ylabel(\"Overall Year Mark\",weight='bold')\n",
      "xlabel(\"Mark for Dorset\",weight='bold')\n",
      "\n",
      "# The rest is iceing\n",
      "\n",
      "xlim(0,100)                 # both scales 0-100\n",
      "ylim(0,100)\n",
      "\n",
      "xticks([0,40,50,60,70,100],[\"0%\",\"3rd/Fail\",\"2ii/3rd\",\"2i/2ii\",\"2i/1st\",\"100%\"], rotation=\"vertical\")\n",
      "yticks([40,50,60,70,100], [\"3rd/Fail\",\"2ii/3rd\",\"2i/2ii\",\"2i/1st\",\"100%\"])\n",
      "                            # ticks and labels to set up by category boundaries\n",
      "\n",
      "grid(linestyle='--', linewidth=.5, color='green',zorder=1)\n",
      "                            # turn on grid with thin dashed green lines, \n",
      "                            # zorder=1 so it's behind markers\n",
      "\n",
      "title(\"Fieldwork and Year marks 2010-11\",weight='bold')\n",
      "                            #titles\n",
      "show()                      #finally show the chart"
     ],
     "language": "python",
     "metadata": {},
     "outputs": [
      {
       "metadata": {},
       "output_type": "display_data",
       "png": "[encoded data removed]",
       "text": [
        "<matplotlib.figure.Figure at 0x106152ad0>"
       ]
      }
     ],
     "prompt_number": 10
    }
   ],
   "metadata": {}
  }
 ]
}