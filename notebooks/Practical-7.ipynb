{
 "metadata": {
  "name": "",
  "signature": "sha256:8875dbecaaec6280a65607dcf886443f32cfd0f63bfcccbfb5dbf03af5219e31"
 },
 "nbformat": 3,
 "nbformat_minor": 0,
 "worksheets": [
  {
   "cells": [
    {
     "cell_type": "markdown",
     "metadata": {},
     "source": [
      "Practical 7: Hypothesis Testing\n",
      "===============================\n",
      "\n",
      "1. I have two sets of trilobite fossils from different localities. I think they are from the same species but want some quantitative confirmation \u2013 on the basis of their mean length:width ratio (triloshape1.csv, triloshape2.csv) is there evidence that they are different?\n",
      "2. I have measured mica percentages in samples of igneous rocks from two different localities (micapercent1.csv, micapercent2.csv). The mean mica percentage is lower in the second locality and I have a geological theory that may explain this, but I first need to rule out the possibility that the lower mica content is just due to chance.\n",
      "\n",
      "In each case construct (i.e. actually write down) your two hypotheses, decide from how they are worded whether they are one-tailed or two-tailed, then use your program to assess which you should accept.\n",
      "\n",
      "Hints:\n",
      "\n",
      "* Test data sets for normality (i.e. do they have  normal distribution). Use the D\u2019Agostino & Pearson test to provide probabilities of normality.\n",
      "* Test whether their means differ significantly. When testing if the means are different you should use use either a two-tailed Mann-Whitney p value, or a two-tailed T-test p value depending on the result of the normality test. Remember that the scipy.stats Mann-Whitney function returns a one-tailed p-value \u2013 you will need to convert to two-tailed.\n",
      "\n"
     ]
    }
   ],
   "metadata": {}
  }
 ]
}