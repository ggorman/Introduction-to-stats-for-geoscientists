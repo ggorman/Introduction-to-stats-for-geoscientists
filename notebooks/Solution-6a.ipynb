{
 "metadata": {
  "name": "",
  "signature": "sha256:792ce33db7f4babaae50a36d0c9ced05d39c2b96b84482bdfc38a60116aee747"
 },
 "nbformat": 3,
 "nbformat_minor": 0,
 "worksheets": [
  {
   "cells": [
    {
     "cell_type": "code",
     "collapsed": false,
     "input": [
      "%pylab inline\n",
      "\n",
      "%load ../data/BrachiopodBiometrics.csv"
     ],
     "language": "python",
     "metadata": {},
     "outputs": [
      {
       "output_type": "stream",
       "stream": "stdout",
       "text": [
        "Populating the interactive namespace from numpy and matplotlib\n"
       ]
      }
     ],
     "prompt_number": 1
    },
    {
     "cell_type": "code",
     "collapsed": false,
     "input": [
      "Locality,Length/mm,Width/mm\n",
      "Harper's Quarry,2.3,2.1\n",
      "Harper's Quarry,2.95,2.85\n",
      "Harper's Quarry,3.1,2.8\n",
      "Harper's Quarry,3.7,3.5\n",
      "Harper's Quarry,3.5,4.6\n",
      "Harper's Quarry,2.35,2.3\n",
      "Harper's Quarry,4,3.9\n",
      "Harper's Quarry,4,4.2\n",
      "Harper's Quarry,2.75,2.55\n",
      "Harper's Quarry,2.95,2.7\n",
      "Harper's Quarry,5,5.1\n",
      "Harper's Quarry,2.7,2.7\n",
      "Harper's Quarry,3,2.9\n",
      "Harper's Quarry,3.2,3.4\n",
      "Harper's Quarry,2.3,2.2\n",
      "Harper's Quarry,2.75,2.7\n",
      "Harper's Quarry,3.4,3.2\n",
      "Harper's Quarry,3.5,3.2\n",
      "Harper's Quarry,3.75,3.6\n",
      "Harper's Quarry,2.8,2.75\n",
      "Harper's Quarry,2.8,2.6\n",
      "Harper's Quarry,2.5,2.7\n",
      "Harper's Quarry,3.6,4\n",
      "Harper's Quarry,3.3,3.2\n",
      "Harper's Quarry,3.35,3.3\n",
      "Harper's Quarry,3.7,4.1\n",
      "Harper's Quarry,3.6,3.45\n",
      "Pen Cerrig Wood,3,3.2\n",
      "Pen Cerrig Wood,3.3,3.3\n",
      "Pen Cerrig Wood,3.3,3.2\n",
      "Pen Cerrig Wood,2.95,2.9\n",
      "Pen Cerrig Wood,3.4,3.4\n",
      "Pen Cerrig Wood,2.3,2.7\n",
      "Pen Cerrig Wood,4.4,3.9\n",
      "Pen Cerrig Wood,2.7,2.5\n",
      "Pen Cerrig Wood,2.8,2.8\n",
      "Pen Cerrig Wood,3.9,3.6\n",
      "Pen Cerrig Wood,2.7,3\n",
      "Pen Cerrig Wood,3.7,3.55\n",
      "Pen Cerrig Wood,3.8,4\n",
      "Pen Cerrig Wood,3.1,3.1\n",
      "Pen Cerrig Wood,2.7,2.2\n",
      "Pen Cerrig Wood,3.5,3.2\n",
      "Pen Cerrig Wood,3,3.1\n",
      "Pen Cerrig Wood,3.3,3.2\n",
      "Pen Cerrig Wood,3.3,3.3\n",
      "Pen Cerrig Wood,3.4,3.25\n",
      "Pen Cerrig Wood,3.1,3\n",
      "Pen Cerrig Wood,4,4\n",
      "Pen Cerrig Wood,3.7,3.6\n",
      "Pen Cerrig Wood,3.2,3.5\n",
      "Pen Cerrig Wood,3.25,3.2\n",
      "Pen Cerrig Wood,3.8,3.75\n",
      "Rorrington Fm,3.45,3.65\n",
      "Rorrington Fm,5.5,4.65\n",
      "Rorrington Fm,3.6,3.5\n",
      "Rorrington Fm,4,3.75\n",
      "Rorrington Fm,4.75,4.35\n",
      "Rorrington Fm,4.87,4.16\n",
      "Rorrington Fm,3.6,3.3\n",
      "Rorrington Fm,4,3.4\n",
      "Rorrington Fm,5.25,4.5\n",
      "Rorrington Fm,4.4,4.45\n",
      "Rorrington Fm,3.5,2.7\n",
      "Rorrington Fm,3.3,2.7\n",
      "Rorrington Fm,2.6,2.7\n",
      "Rorrington Fm,5.15,4.15\n",
      "Rorrington Fm,4.05,3.45\n",
      "Rorrington Fm,3.4,3.75\n",
      "Rorrington Fm,3.5,3.25\n",
      "Rorrington Fm,2.1,2.3\n",
      "Rorrington Fm,4.65,4.5\n",
      "Rorrington Fm,5.1,5.25\n",
      "Rorrington Fm,3.9,3.25\n",
      "Rorrington Fm,3.35,3.5\n"
     ],
     "language": "python",
     "metadata": {},
     "outputs": []
    },
    {
     "cell_type": "code",
     "collapsed": false,
     "input": [
      "pylab.rcParams['savefig.dpi'] = 120         # display a bit bigger than default\n",
      "\n",
      "import numpy as np\n",
      "\n",
      "# Read in the records.\n",
      "record = np.recfromcsv(\"../data/BrachiopodBiometrics.csv\") \n",
      "\n",
      "print record.dtype.names"
     ],
     "language": "python",
     "metadata": {},
     "outputs": [
      {
       "output_type": "stream",
       "stream": "stdout",
       "text": [
        "('locality', 'lengthmm', 'widthmm')\n"
       ]
      }
     ],
     "prompt_number": 2
    },
    {
     "cell_type": "code",
     "collapsed": false,
     "input": [
      "# Convert this to numpy arrays.\n",
      "lengthmm = np.array(record[\"lengthmm\"], dtype=float)\n",
      "widthmm = np.array(record[\"widthmm\"], dtype=float)\n",
      "\n",
      "print lengthmm\n",
      "print widthmm"
     ],
     "language": "python",
     "metadata": {},
     "outputs": [
      {
       "output_type": "stream",
       "stream": "stdout",
       "text": [
        "[ 2.3   2.95  3.1   3.7   3.5   2.35  4.    4.    2.75  2.95  5.    2.7   3.\n",
        "  3.2   2.3   2.75  3.4   3.5   3.75  2.8   2.8   2.5   3.6   3.3   3.35\n",
        "  3.7   3.6   3.    3.3   3.3   2.95  3.4   2.3   4.4   2.7   2.8   3.9\n",
        "  2.7   3.7   3.8   3.1   2.7   3.5   3.    3.3   3.3   3.4   3.1   4.    3.7\n",
        "  3.2   3.25  3.8   3.45  5.5   3.6   4.    4.75  4.87  3.6   4.    5.25\n",
        "  4.4   3.5   3.3   2.6   5.15  4.05  3.4   3.5   2.1   4.65  5.1   3.9\n",
        "  3.35]\n",
        "[ 2.1   2.85  2.8   3.5   4.6   2.3   3.9   4.2   2.55  2.7   5.1   2.7\n",
        "  2.9   3.4   2.2   2.7   3.2   3.2   3.6   2.75  2.6   2.7   4.    3.2\n",
        "  3.3   4.1   3.45  3.2   3.3   3.2   2.9   3.4   2.7   3.9   2.5   2.8\n",
        "  3.6   3.    3.55  4.    3.1   2.2   3.2   3.1   3.2   3.3   3.25  3.    4.\n",
        "  3.6   3.5   3.2   3.75  3.65  4.65  3.5   3.75  4.35  4.16  3.3   3.4\n",
        "  4.5   4.45  2.7   2.7   2.7   4.15  3.45  3.75  3.25  2.3   4.5   5.25\n",
        "  3.25  3.5 ]\n"
       ]
      }
     ],
     "prompt_number": 3
    },
    {
     "cell_type": "code",
     "collapsed": false,
     "input": [
      "plot(lengthmm, widthmm, 'bx', markersize=5, markeredgewidth=2, zorder=3)\n",
      "                            # 'bx' - blue 'x' markers, 10 points in size, \n",
      "                            # drawn in a thickish line.\n",
      "                            # zorder=3 to make sure this is in front of grid\n",
      "\n",
      "# Not labeling a graph is unforgivable. This is the minimum that should be in any graph.  \n",
      "ylabel(\"Length/mm\",weight='bold')\n",
      "xlabel(\"Width/mm\",weight='bold')\n",
      "\n",
      "title(\"Brachiopod Biometric data\",weight='bold')\n",
      "show()"
     ],
     "language": "python",
     "metadata": {},
     "outputs": [
      {
       "metadata": {},
       "output_type": "display_data",
       "png": "[encoded data removed]",
       "text": [
        "<matplotlib.figure.Figure at 0x1060c1f10>"
       ]
      }
     ],
     "prompt_number": 5
    }
   ],
   "metadata": {}
  }
 ]
}