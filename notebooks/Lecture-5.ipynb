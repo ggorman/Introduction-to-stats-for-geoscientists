{
 "metadata": {
  "name": "",
  "signature": "sha256:9160b32b37896d26b7db5236eba8901abb50d0431b86bdcd8f11b161053ee19e"
 },
 "nbformat": 3,
 "nbformat_minor": 0,
 "worksheets": [
  {
   "cells": [
    {
     "cell_type": "markdown",
     "metadata": {},
     "source": [
      "# Introduction to statistics for Geoscientists (with Python)\n",
      "### Lecturer: Gerard Gorman\n",
      "### Lecture 5: Statistics and graphs - an introduction\n",
      "### URL: [http://ggorman.github.io/Introduction-to-stats-for-geoscientists/](http://ggorman.github.io/Introduction-to-stats-for-geoscientists/)\n"
     ]
    },
    {
     "cell_type": "markdown",
     "metadata": {},
     "source": [
      "## Aims and objectives of these lectures\n",
      "\n",
      "Most of you will have done stats before - most probably not in detail. This section of course will be concerned with:\n",
      "\n",
      "* Teaching you practical applications of stats.\n",
      "* Teaching you how to use Python to undertake statistical analyses of data.\n",
      "* Practise with graphing data in Python.\n",
      "\n",
      "This course will **NOT** be concerned with mathematical theory underlying statistics. Goal is for you to pick up practical statistical skills and knowledge."
     ]
    },
    {
     "cell_type": "markdown",
     "metadata": {},
     "source": [
      "## What is statistics?\n",
      "Statistics is the study of the collection, organisation, analysis and interpretation of data. It is comprised of methods for describing and analysing non-deterministic phenomena.\n",
      "\n",
      "### What do we mean by this?\n",
      "\n",
      "Deterministic phenomena - can be precisely predicted:\n",
      "\n",
      "* Orbits of planets.\n",
      "* Chemical reactions.\n",
      "\n",
      "Non-deterministic phenomena - include randomness:\n",
      "\n",
      "* Heights of people in the UK.\n",
      "* Measurements of mineral ages in rock sample.\n",
      "* Lengths of a certain fossil from a certain locality.\n"
     ]
    },
    {
     "cell_type": "markdown",
     "metadata": {},
     "source": [
      "## Populations and distributions\n",
      "\n",
      "Population - whole underlying \u2018universe\u2019 of possible values \u2013 normally unattainable!\n",
      "\n",
      "* Height measurements of all people in the UK.\n",
      "* Lengths of EVERY fossil specimen from locality.\n",
      "\n",
      "Distribution - shape of population histogram.\n",
      "\n",
      "Lets have a look at a few examples:"
     ]
    },
    {
     "cell_type": "code",
     "collapsed": false,
     "input": [
      "%pylab inline\n",
      "\n",
      "import pylab\n",
      "from scipy import stats\n",
      "\n",
      "# Generate normal distribution.\n",
      "x = stats.norm.rvs(size=100000)\n",
      "\n",
      "# Plot a histogram\n",
      "pylab.hist(x, 100, normed=1)\n",
      "pylab.axis([-4,4, 0, 0.45])\n",
      "pylab.show()"
     ],
     "language": "python",
     "metadata": {},
     "outputs": [
      {
       "output_type": "stream",
       "stream": "stdout",
       "text": [
        "Populating the interactive namespace from numpy and matplotlib\n"
       ]
      },
      {
       "metadata": {},
       "output_type": "display_data",
       "png": "[encoded data removed]",
       "text": [
        "<matplotlib.figure.Figure at 0x7f1e828bb890>"
       ]
      }
     ],
     "prompt_number": 1
    },
    {
     "cell_type": "code",
     "collapsed": false,
     "input": [
      "# Generate Wald distribution.\n",
      "x = stats.wald.rvs(size=200000)\n",
      "\n",
      "# Plot a histogram\n",
      "pylab.hist(x, 300, normed=1)\n",
      "pylab.axis([0,5, 0, 1.2])\n",
      "pylab.show()"
     ],
     "language": "python",
     "metadata": {},
     "outputs": [
      {
       "metadata": {},
       "output_type": "display_data",
       "png": "[encoded data removed]",
       "text": [
        "<matplotlib.figure.Figure at 0x7f1e7d26fc10>"
       ]
      }
     ],
     "prompt_number": 2
    },
    {
     "cell_type": "code",
     "collapsed": false,
     "input": [
      "# Generate exponential distribution.\n",
      "x = stats.expon.rvs(size=100000)\n",
      "\n",
      "# Plot a histogram\n",
      "pylab.hist(x, 200, normed=1)\n",
      "pylab.axis([0,5, 0, 1.0])\n",
      "pylab.show()"
     ],
     "language": "python",
     "metadata": {},
     "outputs": [
      {
       "metadata": {},
       "output_type": "display_data",
       "png": "[encoded data removed]",
       "text": [
        "<matplotlib.figure.Figure at 0x7f1e7d3e7350>"
       ]
      }
     ],
     "prompt_number": 3
    },
    {
     "cell_type": "markdown",
     "metadata": {},
     "source": [
      "## Sample\n",
      "A sample is a subset of the population that we have actually measured.\n",
      "\n",
      "* Heights of all people in this room.\n",
      "* Lengths of fossils in one collector\u2019s collection.\n",
      "\n",
      "Statistics involves using samples to represent populations.\n",
      "\n",
      "Samples must be unbiased for statistics to be of any use!\n",
      "\n",
      "## Biased sampling\n",
      "Popular example: In the [1936 US Presidential Election](http://en.wikipedia.org/wiki/United_States_presidential_election,_1936), Literary Digest\u00a0undertook a massive pre-election poll. They sent out 10 million questionnaires to list of names obtained from phone books and car-registration lists. The survey predicted a Republican landslide...actual result was biggest Democratic landslide in 20th centry - Roosevelt received 98.49% of the electoral vote, the highest percentage since the uncontested election of 1820. [Two key errors were made] (http://en.wikipedia.org/wiki/United_States_presidential_election,_1936#Campaign): \n",
      "(1) only the better off owned cars and phones and were statistically more likely to vote Republican; (2) as the survey was voluntary typically only the really passionate voters who were unhappy with the status quo (i.e. Democrat) replied to the survey.\n",
      "\n",
      "Are our first set of samples also likely to be biased?\n",
      "\n",
      "* Heights of all people in this room.\n",
      "* Lengths of fossils in one collector\u2019s collection.\n",
      "\n",
      "Are there better ways to sample these populations?\n",
      "\n",
      "Not going to talk any more in this course about need for non-biased (random) samples. However, sample bias can get you into serious trouble so keep it in mind (consider these other fun examples: sampling bias in the fossil record; or the Caveman Effect)."
     ]
    },
    {
     "cell_type": "markdown",
     "metadata": {},
     "source": [
      "## Branches of statistics\n",
      "\n",
      "Two branches/classes of statistics:\n",
      "\n",
      "**Descriptive statistics**: Numbers used to summarise samples (and hence hopefully populations) e.g. averages.\n",
      "\n",
      "**Inferential statistics**: Methods for drawing conclusions from samples or combinations of samples, e.g. 'On basis of my samples, how likely is it that height and shoe size are related?'\n",
      "\n",
      "In this lecture we will stick to descriptive statistics."
     ]
    },
    {
     "cell_type": "markdown",
     "metadata": {},
     "source": [
      "##Averages\n",
      "\n",
      "Averages are *measures of central tendency*. Several types of average exist. The most commonly used are:\n",
      "\n",
      "* **Mean** (technically arithmetic mean)."
     ]
    },
    {
     "cell_type": "code",
     "collapsed": false,
     "input": [
      "# e.g.\n",
      "import numpy as np \n",
      "values = np.array([1,3,5,2,4,7,2,6,8,3,2,3,5])\n",
      "print \"Mean = \", np.mean(values)"
     ],
     "language": "python",
     "metadata": {},
     "outputs": [
      {
       "output_type": "stream",
       "stream": "stdout",
       "text": [
        "Mean =  3.92307692308\n"
       ]
      }
     ],
     "prompt_number": 4
    },
    {
     "cell_type": "markdown",
     "metadata": {},
     "source": [
      "* **Median**: middle value when numbers ordered."
     ]
    },
    {
     "cell_type": "code",
     "collapsed": false,
     "input": [
      "print \"Sorted array = \", sort(values)\n",
      "print \"Median = \", np.median(values)"
     ],
     "language": "python",
     "metadata": {},
     "outputs": [
      {
       "output_type": "stream",
       "stream": "stdout",
       "text": [
        "Sorted array =  [1 2 2 2 3 3 3 4 5 5 6 7 8]\n",
        "Median =  3.0\n"
       ]
      }
     ],
     "prompt_number": 5
    },
    {
     "cell_type": "markdown",
     "metadata": {},
     "source": [
      "In this example there are 13 numbers so the median is the 7th number in the sorted array. If there were 14 numbers (e.g. the number 10 was appended to the array) then the median would be the mean of 7th and 8th values, i.e. 3.5 in this case.\n",
      "* **Mode**: most common value."
     ]
    },
    {
     "cell_type": "code",
     "collapsed": false,
     "input": [
      "# Although we have not gone far we quickly find that we have to look for\n",
      "# pythons stats module to provide a method for the the mode.\n",
      "from scipy import stats\n",
      "\n",
      "mode, count = stats.mode(values)\n",
      "\n",
      "print \"Mode = \", mode"
     ],
     "language": "python",
     "metadata": {},
     "outputs": [
      {
       "output_type": "stream",
       "stream": "stdout",
       "text": [
        "Mode =  [ 2.]\n"
       ]
      }
     ],
     "prompt_number": 6
    },
    {
     "cell_type": "markdown",
     "metadata": {},
     "source": [
      "Note that for when there are multiple modes, only the first is returned.\n",
      "\n",
      "The mean and the median are the two most common averages. The advantages of median over the mean are:\n",
      "\n",
      "* May be better for skewed distributions.\n",
      "* Reduces effect of outliers.\n",
      "* Don\u2019t need to know values of end-values.\n",
      "\n",
      "In practice the mode much more rarely used."
     ]
    },
    {
     "cell_type": "markdown",
     "metadata": {},
     "source": [
      "##Measures of spread\n",
      "\n",
      "There is much more to a distribution than average. These samples have the same mean and median:"
     ]
    },
    {
     "cell_type": "code",
     "collapsed": false,
     "input": [
      "values1 = np.array([-0.2, -0.1, -0.1, 0.0, 0.0, 0.0 , 0.1 , 0.1 , 0.2])\n",
      "print \"values1 mean, median = \", np.mean(values1), np.median(values1)\n",
      "\n",
      "values2 = np.array([-1000, -500, 0, 500, 1000])\n",
      "print \"values2 mean, median = \", np.mean(values2), np.median(values2)"
     ],
     "language": "python",
     "metadata": {},
     "outputs": [
      {
       "output_type": "stream",
       "stream": "stdout",
       "text": [
        "values1 mean, median =  -3.08395284618e-18 0.0\n",
        "values2 mean, median =  0.0 0.0\n"
       ]
      }
     ],
     "prompt_number": 7
    },
    {
     "cell_type": "markdown",
     "metadata": {},
     "source": [
      "...but they have very different spread:"
     ]
    },
    {
     "cell_type": "code",
     "collapsed": false,
     "input": [
      "print \"values1 spread = \", np.ptp(values1)\n",
      "print \"values1 spread = \", np.ptp(values2)"
     ],
     "language": "python",
     "metadata": {},
     "outputs": [
      {
       "output_type": "stream",
       "stream": "stdout",
       "text": [
        "values1 spread =  0.4\n",
        "values1 spread =  2000\n"
       ]
      }
     ],
     "prompt_number": 8
    },
    {
     "cell_type": "markdown",
     "metadata": {},
     "source": [
      "## Percentile\n",
      "Best explained with a distribution:\n",
      "![distribution](https://raw.githubusercontent.com/ggorman/Introduction-to-stats-for-geoscientists/gh-pages/images/percentile_distribution.png)\n",
      "\n",
      "* 20th Percentile (~ -2)              20% of values are lower than this.\n",
      "* 75th Percentile (~ 8.5)             75% of values are lower than this.\n",
      "* Median is 50th percentile (~4)      50% values lower!\n",
      "* Interquartile (IQ) range = 75th percentile \u2013 25th percentile\n"
     ]
    },
    {
     "cell_type": "markdown",
     "metadata": {},
     "source": [
      "## Variance and Standard deviation\n",
      "\n",
      "These are the most commonly used measures of spread. The sample variance is:\n",
      "\n",
      "$$ v = \\frac{1}{N-1} \\sum_{i=1}^{N} \\left( x_i - \\bar{x}\\right)^2 ,$$\n",
      "\n",
      "where $N$ is the number of measurements, $x_i$ is the individual measurement and $\\bar{x}$ is the sample mean. We can interpret this expression (almost) as the average of squared distances from the sample mean. Indeed, this intuitively gives us the spread. But instead of the expected $\\frac{1}{N}$ we have $\\frac{1}{N-1}$. This $\\frac{N}{N-1}$ factor is called Bessel\u2019s correction - it removes bias.\n",
      "\n",
      "The sample standard deviation is the square root of the sample variance: $s = \\sqrt{v}$. It gives a measure of spread in the same units as the measurements themselves."
     ]
    },
    {
     "cell_type": "markdown",
     "metadata": {},
     "source": [
      "# Practical session 5a\n",
      "\n",
      "If you need remind yourself of how to get started using iPython see the introduction to programming lecture from the first term: [http://ggorman.github.io/Introduction-to-programming-for-geoscientists/lecture/notes/2014/10/16/Lecture1.html](http://ggorman.github.io/Introduction-to-programming-for-geoscientists/lecture/notes/2014/10/16/Lecture1.html)\n",
      "\n",
      "1. Inspect the file [qzpercentages.csv](https://github.com/ggorman/Introduction-to-stats-for-geoscientists/blob/gh-pages/data/qzpercentages.csv) (use %load or %cat data/qzpercentages.csv for example).\n",
      "2. Write a program to read in the data. **Before launching into writing your own read function from first principles for reading .csv files consider if there is already a *right way* of doing this.** The same sage advice applies to all tasks given here.\n",
      "3. Calculate the mean, median, range, interquartile range, standard deviation, variance, and mode.\n",
      "\n",
      "\n"
     ]
    },
    {
     "cell_type": "code",
     "collapsed": false,
     "input": [
      "# Develop your solution here...\n"
     ],
     "language": "python",
     "metadata": {},
     "outputs": [],
     "prompt_number": 9
    },
    {
     "cell_type": "markdown",
     "metadata": {},
     "source": [
      "# Plotting graphs\n",
      "\n",
      "In this course we will be using PyLab for plotting. There are a few options but this is currently the dominant solution.\n",
      "\n",
      "Within iPython remember to start your programs with the command:"
     ]
    },
    {
     "cell_type": "code",
     "collapsed": false,
     "input": [
      " %pylab inline"
     ],
     "language": "python",
     "metadata": {},
     "outputs": [
      {
       "output_type": "stream",
       "stream": "stdout",
       "text": [
        "Populating the interactive namespace from numpy and matplotlib\n"
       ]
      },
      {
       "output_type": "stream",
       "stream": "stderr",
       "text": [
        "WARNING: pylab import has clobbered these variables: ['pylab']\n",
        "`%matplotlib` prevents importing * from pylab and numpy\n"
       ]
      }
     ],
     "prompt_number": 10
    },
    {
     "cell_type": "markdown",
     "metadata": {},
     "source": [
      "(ignore the message in pink - it's nothing to worry about). This *inlines* plots directly into the notebook rather than opening up a seperate window. The command also imports pylab and numpy functions."
     ]
    },
    {
     "cell_type": "markdown",
     "metadata": {},
     "source": [
      "## Bar charts\n",
      "\n",
      "Bar charts are a common chart type. They are used for plotting discrete data, e.g.:\n",
      "\n",
      "* Shoe-size.\n",
      "* Countries.\n",
      "\n",
      "Bar charts should not be confused with histograms. In the example here we have fossil species from a certain locality."
     ]
    },
    {
     "cell_type": "code",
     "collapsed": false,
     "input": [
      "# Sample program for bar chart of relative abundances of 5 species of fossil from a locality\n",
      "\n",
      "# Finds of each fossil\n",
      "bardata = np.array([121,59,16,20,81])       \n",
      "species=[\"Apatobolus micula\", \"Lingulella davisii\", \"Divobolus quadratus\",\n",
      "         \"Tarphyteina taylori\", \"Bathmoleca addisoni\"]\n",
      "\n",
      "# Colours to be used in bar chart\n",
      "colours=[\"red\",\"green\",\"blue\",\"orange\",\"purple\"]        \n",
      "\n",
      "# Set up chart with 5 bars using my values and colours\n",
      "pylab.bar([1,2,3,4,5], bardata, 1, 0, color=colours)\n",
      "\n",
      "# Add datalabels to x-axis\n",
      "pylab.xticks([1,2,3,4,5],species, rotation=45, style='italic')\n",
      "\n",
      "# Title for y axis.\n",
      "pylab.ylabel(\"Number of specimens found\")\n",
      "\n",
      "# Title for chart.\n",
      "pylab.title(\"Brachiopod fossils from locality #23\", weight='bold', color=(.5,.1,.1))\n",
      "pylab.show()"
     ],
     "language": "python",
     "metadata": {},
     "outputs": [
      {
       "metadata": {},
       "output_type": "display_data",
       "png": "[encoded data removed]",
       "text": [
        "<matplotlib.figure.Figure at 0x7f1e7cd58ad0>"
       ]
      }
     ],
     "prompt_number": 11
    },
    {
     "cell_type": "markdown",
     "metadata": {},
     "source": [
      "## Histograms\n",
      "\n",
      "Histograms are a way to summarize distributions. The distribution is split into categories or *bins* - usually of equal size. The size of the bins is arbitrary - whatever works best for the task at hand.\n",
      "\n",
      "The number of samples falling into each bin are counted - this is the frequency. They are then plotted as adjacent rectangles akin to a bar-chart. The profile of a histogram approximates probability distribution of the population."
     ]
    },
    {
     "cell_type": "markdown",
     "metadata": {},
     "source": [
      "# Practical 5b\n",
      "\n",
      "Generate a histogram from [qzpercentages.csv](https://github.com/ggorman/Introduction-to-stats-for-geoscientists/blob/gh-pages/data/qzpercentages.csv).\n",
      "\n",
      "Your histogram should include the following features:\n",
      "\n",
      "1. Label the x and y axis.\n",
      "2. Need to fix x-axis labels to make sure all bins are labelled.\n",
      "3. Need to fix y-axis ticks to avoid \u20180\u2019 crashing into \u201920\u2019.\n",
      "4. Specify the number of bins.\n",
      "5. Increas the line thickness in your plot.\n",
      "6. Specify the colour.\n",
      "7. Add a title."
     ]
    },
    {
     "cell_type": "code",
     "collapsed": false,
     "input": [
      "# Solutions here..."
     ],
     "language": "python",
     "metadata": {},
     "outputs": [],
     "prompt_number": 12
    }
   ],
   "metadata": {}
  }
 ]
}