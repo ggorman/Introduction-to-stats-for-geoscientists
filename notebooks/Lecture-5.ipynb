{
 "cells": [
  {
   "cell_type": "markdown",
   "metadata": {},
   "source": [
    "# Introduction to statistics for Geoscientists (with Python)\n",
    "### Lecturer: Gerard Gorman\n",
    "### Lecture 5: Statistics and graphs - an introduction\n",
    "### URL: [http://ggorman.github.io/Introduction-to-stats-for-geoscientists/](http://ggorman.github.io/Introduction-to-stats-for-geoscientists/)\n"
   ]
  },
  {
   "cell_type": "markdown",
   "metadata": {},
   "source": [
    "## Aims and objectives of these lectures\n",
    "\n",
    "Most of you will have done stats before - most probably not in detail. This section of course will be concerned with:\n",
    "\n",
    "* Teaching you practical applications of stats.\n",
    "* Teaching you how to use Python to undertake statistical analyses of data.\n",
    "* Practise with graphing data in Python.\n",
    "\n",
    "This course will **NOT** be concerned with mathematical theory underlying statistics. Goal is for you to pick up practical statistical skills and knowledge."
   ]
  },
  {
   "cell_type": "markdown",
   "metadata": {},
   "source": [
    "## What is statistics?\n",
    "Statistics is the study of the collection, organisation, analysis and interpretation of data. It is comprised of methods for describing and analysing non-deterministic phenomena.\n",
    "\n",
    "### What do we mean by this?\n",
    "\n",
    "Deterministic phenomena - can be precisely predicted:\n",
    "\n",
    "* Orbits of planets.\n",
    "* Chemical reactions.\n",
    "\n",
    "Non-deterministic phenomena - include randomness:\n",
    "\n",
    "* Heights of people in the UK.\n",
    "* Measurements of mineral ages in rock sample.\n",
    "* Lengths of a certain fossil from a certain locality.\n"
   ]
  },
  {
   "cell_type": "markdown",
   "metadata": {},
   "source": [
    "## Populations and distributions\n",
    "\n",
    "Population - whole underlying universe of possible values. This is normally unattainable!\n",
    "\n",
    "* Height measurements of all people in the UK.\n",
    "* Lengths of EVERY fossil specimen from locality.\n",
    "\n",
    "Distribution - shape of population histogram.\n",
    "\n",
    "Lets have a look at a few examples:"
   ]
  },
  {
   "cell_type": "code",
   "execution_count": 1,
   "metadata": {
    "collapsed": false
   },
   "outputs": [
    {
     "data": {
      "image/png": "[encoded data removed]",
      "text/plain": [
       "<matplotlib.figure.Figure at 0x108ea3290>"
      ]
     },
     "metadata": {},
     "output_type": "display_data"
    }
   ],
   "source": [
    "# Here we import the standard plotting library from matplotlib, and give it the\n",
    "# moniker 'plt'. If you are used to using pylab, don't worry! The two modules\n",
    "# can be used almost interchangeably.\n",
    "from scipy import stats\n",
    "import matplotlib.pyplot as plt\n",
    "\n",
    "# This command simply ensures that all matplotlib windows are opened in the \n",
    "# notebook and not as pop-ups\n",
    "%matplotlib inline\n",
    "\n",
    "# Generate normal distribution.\n",
    "x = stats.norm.rvs(size=100000)\n",
    "\n",
    "# Plot a histogram\n",
    "plt.hist(x, 100, normed=1)\n",
    "\n",
    "# The histogram uses the input data of 'x', separates it into '100' bins and\n",
    "# normalises it ('normed')\n",
    "#   axis: x0,x1,y0, y1\n",
    "plt.axis([-4, 4, 0, 0.45])\n",
    "\n",
    "plt.show()"
   ]
  },
  {
   "cell_type": "code",
   "execution_count": 2,
   "metadata": {
    "collapsed": false
   },
   "outputs": [
    {
     "data": {
      "image/png": "[encoded data removed]",
      "text/plain": [
       "<matplotlib.figure.Figure at 0x10393e9d0>"
      ]
     },
     "metadata": {},
     "output_type": "display_data"
    }
   ],
   "source": [
    "# Generate Wald distribution.\n",
    "x = stats.wald.rvs(size=200000)\n",
    "\n",
    "# Plot a histogram\n",
    "plt.hist(x, 300, normed=1)\n",
    "plt.axis([0, 5, 0, 1.2])\n",
    "plt.show()"
   ]
  },
  {
   "cell_type": "code",
   "execution_count": 3,
   "metadata": {
    "collapsed": false
   },
   "outputs": [
    {
     "data": {
      "image/png": "[encoded data removed]",
      "text/plain": [
       "<matplotlib.figure.Figure at 0x103839110>"
      ]
     },
     "metadata": {},
     "output_type": "display_data"
    }
   ],
   "source": [
    "# Generate exponential distribution.\n",
    "x = stats.expon.rvs(size=100000)\n",
    "\n",
    "# Plot a histogram\n",
    "plt.hist(x, 200, normed=1)\n",
    "plt.axis([0, 5, 0, 1.0])\n",
    "plt.show()\n"
   ]
  },
  {
   "cell_type": "markdown",
   "metadata": {},
   "source": [
    "## Sample\n",
    "A sample is a subset of the population that we have actually measured.\n",
    "\n",
    "* Heights of all people in this room.\n",
    "* Lengths of fossils in a collection.\n",
    "\n",
    "Statistics involves using samples to represent populations.\n",
    "\n",
    "Samples must be unbiased for statistics to be of any use!\n",
    "\n",
    "## Biased sampling\n",
    "Popular example: In the [1936 US Presidential Election](http://en.wikipedia.org/wiki/United_States_presidential_election,_1936), Literary Digest undertook a massive pre-election poll. They sent out 10 million questionnaires to list of names obtained from phone books and car-registration lists. The survey predicted a Republican landslide...actual result was biggest Democratic landslide in 20th centry - Roosevelt received 98.49% of the electoral vote, the highest percentage since the uncontested election of 1820. [Two key errors were made] (http://en.wikipedia.org/wiki/United_States_presidential_election,_1936#Campaign): \n",
    "(1) only the better off owned cars and phones and were statistically more likely to vote Republican; (2) as the survey was voluntary typically only the really passionate voters who were unhappy with the status quo (i.e. Democrat) replied to the survey.\n",
    "\n",
    "Are our first set of samples also likely to be biased?\n",
    "\n",
    "* Heights of all people in this room.\n",
    "* Lengths of fossils in a collection.\n",
    "\n",
    "Are there better ways to sample these populations?\n",
    "\n",
    "Not going to talk any more in this course about need for non-biased (random) samples. However, sample bias can get you into serious trouble so keep it in mind (consider these other fun examples: sampling bias in the fossil record; or the Caveman Effect)."
   ]
  },
  {
   "cell_type": "markdown",
   "metadata": {},
   "source": [
    "## Branches of statistics\n",
    "\n",
    "Two branches/classes of statistics:\n",
    "\n",
    "**Descriptive statistics**: Numbers used to summarise samples (and hence hopefully populations) e.g. averages.\n",
    "\n",
    "**Inferential statistics**: Methods for drawing conclusions from samples or combinations of samples, e.g. 'On basis of my samples, how likely is it that height and shoe size are related?'\n",
    "\n",
    "In this lecture we will stick to descriptive statistics."
   ]
  },
  {
   "cell_type": "markdown",
   "metadata": {},
   "source": [
    "## Averages\n",
    "\n",
    "Averages are *measures of central tendency*. Several types of average exist. The most commonly used are:\n",
    "\n",
    "* **Mean** (technically arithmetic mean)."
   ]
  },
  {
   "cell_type": "code",
   "execution_count": 4,
   "metadata": {
    "collapsed": false
   },
   "outputs": [
    {
     "name": "stdout",
     "output_type": "stream",
     "text": [
      "Mean = 3.92307692308\n"
     ]
    }
   ],
   "source": [
    "import numpy as np \n",
    "\n",
    "values = np.array([1, 3, 5, 2, 4, 7, 2, 6, 8, 3, 2, 3, 5])\n",
    "\n",
    "# Here we use conditional formatting. We add curly braces in the string, and whatever \n",
    "# is in '.format()' will be inserted in their place.\n",
    "print \"Mean = {}\".format(np.mean(values))"
   ]
  },
  {
   "cell_type": "markdown",
   "metadata": {},
   "source": [
    "* **Median**: middle value when numbers ordered."
   ]
  },
  {
   "cell_type": "code",
   "execution_count": 5,
   "metadata": {
    "collapsed": false
   },
   "outputs": [
    {
     "name": "stdout",
     "output_type": "stream",
     "text": [
      "Sorted array = [1 2 2 2 3 3 3 4 5 5 6 7 8], Median = 3.0\n"
     ]
    }
   ],
   "source": [
    "# Here there are two sets of braces, and format has two arguments. This way you can\n",
    "# insert multiple strings, lists, and floats into a string!\n",
    "print \"Sorted array = {}, Median = {}\".format(np.sort(values), np.median(values))\n"
   ]
  },
  {
   "cell_type": "markdown",
   "metadata": {},
   "source": [
    "In this example there are 13 numbers so the median is the $7^{th}$ number in the sorted array. If there were 14 numbers (e.g. the number 10 was appended to the array) then the median would be the mean of $7^{th}$ and $8^{th}$ values, i.e. 3.5 in this case.\n",
    "* **Mode**: most common value."
   ]
  },
  {
   "cell_type": "code",
   "execution_count": 6,
   "metadata": {
    "collapsed": false
   },
   "outputs": [
    {
     "name": "stdout",
     "output_type": "stream",
     "text": [
      "Mode = [2]\n"
     ]
    }
   ],
   "source": [
    "# Although we have not gone far we quickly find that we have to look for\n",
    "# python's stats module to provide a method for the the mode.\n",
    "from scipy import stats\n",
    "\n",
    "mode, count = stats.mode(values)\n",
    "\n",
    "print \"Mode = {}\".format(mode)\n"
   ]
  },
  {
   "cell_type": "markdown",
   "metadata": {},
   "source": [
    "Note that for when there are multiple modes, only the first is returned.\n",
    "\n",
    "The mean and the median are the two most common averages. The advantages of median over the mean are:\n",
    "\n",
    "* May be better for skewed distributions.\n",
    "* Reduces effect of outliers.\n",
    "* Don’t need to know values of end-values.\n",
    "\n",
    "In practice the mode much more rarely used."
   ]
  },
  {
   "cell_type": "markdown",
   "metadata": {},
   "source": [
    "## Measures of spread\n",
    "\n",
    "There is much more to a distribution than average. These samples have the same mean and median:"
   ]
  },
  {
   "cell_type": "code",
   "execution_count": 7,
   "metadata": {
    "collapsed": false
   },
   "outputs": [
    {
     "name": "stdout",
     "output_type": "stream",
     "text": [
      "values1 mean = 0.0, median = 0.0\n",
      "values2 mean = 0.0, median = 0.0\n"
     ]
    }
   ],
   "source": [
    "values1 = np.array([-0.2, -0.1, -0.1, 0.0, 0.0, 0.0 , 0.1 , 0.1 , 0.2])\n",
    "print \"values1 mean = {}, median = {}\".format(np.mean(values1), np.median(values1))\n",
    "\n",
    "values2 = np.array([-1000, -500, 0, 500, 1000])\n",
    "print \"values2 mean = {}, median = {}\".format(np.mean(values2), np.median(values2))"
   ]
  },
  {
   "cell_type": "markdown",
   "metadata": {},
   "source": [
    "...but they have very different spread:"
   ]
  },
  {
   "cell_type": "code",
   "execution_count": 8,
   "metadata": {
    "collapsed": false
   },
   "outputs": [
    {
     "name": "stdout",
     "output_type": "stream",
     "text": [
      "values1 spread =  0.4\n",
      "values1 spread =  2000\n"
     ]
    }
   ],
   "source": [
    "print \"values1 spread = \", np.ptp(values1)\n",
    "print \"values1 spread = \", np.ptp(values2)"
   ]
  },
  {
   "cell_type": "markdown",
   "metadata": {},
   "source": [
    "## Percentile\n",
    "Best explained with a distribution:\n",
    "![distribution](https://raw.githubusercontent.com/ggorman/Introduction-to-stats-for-geoscientists/gh-pages/images/percentile_distribution.png)\n",
    "\n",
    "* 20th Percentile (~ -2)              20% of values are lower than this.\n",
    "* 75th Percentile (~ 8.5)             75% of values are lower than this.\n",
    "* Median is 50th percentile (~4)      50% values lower!\n",
    "* Interquartile (IQ) range = 75th percentile – 25th percentile\n"
   ]
  },
  {
   "cell_type": "markdown",
   "metadata": {},
   "source": [
    "## Variance and standard deviation\n",
    "\n",
    "These are the most commonly used measures of spread. The sample variance is:\n",
    "\n",
    "$$ v = \\frac{1}{N-1} \\sum_{i=1}^{N} \\left( x_i - \\bar{x}\\right)^2 ,$$\n",
    "\n",
    "where $N$ is the number of measurements, $x_i$ is the individual measurement and $\\bar{x}$ is the sample mean. We can interpret this expression (almost) as the average of squared distances from the sample mean. Indeed, this intuitively gives us the spread. However, rather than the expected $\\frac{1}{N}$ we have $\\frac{1}{N-1}$. This is known as Bessel’s correction and it corrects the bias in the estimation of the population variance.\n",
    "\n",
    "The sample standard deviation is the square root of the sample variance: $s = \\sqrt{v}$. It gives a measure of spread in the same units as the measurements themselves."
   ]
  },
  {
   "cell_type": "markdown",
   "metadata": {},
   "source": [
    "# Exercise 5.1\n",
    "\n",
    "If you need remind yourself of how to get started using iPython see the [introduction to programming lecture](http://ggorman.github.io/Introduction-to-programming-for-geoscientists/) from the first term.\n",
    "\n",
    "1. Inspect the file [qzpercentages.csv](https://github.com/ggorman/Introduction-to-stats-for-geoscientists/blob/gh-pages/data/qzpercentages.csv) (use %load or %cat data/qzpercentages.csv for example).\n",
    "2. Write a program to read in the data. **Before launching into writing your own read function from first principles for reading .csv files consider if there is already a *right way* of doing this.** The same sage advice applies to all tasks given here.\n",
    "3. Calculate the mean, median, range, interquartile range, standard deviation, variance, and mode.\n",
    "\n",
    "\n"
   ]
  },
  {
   "cell_type": "code",
   "execution_count": 9,
   "metadata": {
    "collapsed": false
   },
   "outputs": [],
   "source": [
    "# Develop your solution here..."
   ]
  },
  {
   "cell_type": "markdown",
   "metadata": {},
   "source": [
    "# Plotting graphs\n",
    "\n",
    "In this course we will be using matplotlib for plotting. \n",
    "\n",
    "Within iPython remember to start your programs with the command:"
   ]
  },
  {
   "cell_type": "code",
   "execution_count": 10,
   "metadata": {
    "collapsed": false
   },
   "outputs": [],
   "source": [
    "%matplotlib inline"
   ]
  },
  {
   "cell_type": "markdown",
   "metadata": {},
   "source": [
    "## Bar charts\n",
    "\n",
    "Bar charts are a common chart type. They are used for plotting discrete data, e.g.:\n",
    "\n",
    "* Shoe-size.\n",
    "* Countries.\n",
    "\n",
    "Bar charts should not be confused with histograms. In the example here we have fossil species from a certain locality."
   ]
  },
  {
   "cell_type": "code",
   "execution_count": 11,
   "metadata": {
    "collapsed": false
   },
   "outputs": [
    {
     "data": {
      "image/png": "[encoded data removed]",
      "text/plain": [
       "<matplotlib.figure.Figure at 0x111837b10>"
      ]
     },
     "metadata": {},
     "output_type": "display_data"
    }
   ],
   "source": [
    "# Sample program for bar chart of relative abundances of 5 species of fossil from a locality\n",
    "\n",
    "# Finds of each fossil\n",
    "bardata = np.array([121, 59, 16, 20, 81])       \n",
    "species=[\"Apatobolus micula\", \"Lingulella davisii\", \"Divobolus quadratus\",\n",
    "         \"Tarphyteina taylori\", \"Bathmoleca addisoni\"]\n",
    "\n",
    "# Colours to be used in bar chart\n",
    "colours=[\"red\", \"green\", \"blue\", \"orange\", \"purple\"]        \n",
    "\n",
    "# Set up chart with 5 bars using my values and colours\n",
    "plt.bar([1, 2, 3, 4, 5], bardata, 1, 0, color=colours)\n",
    "\n",
    "# Add datalabels to x-axis\n",
    "plt.xticks([1, 2, 3, 4, 5],species, rotation=45, style='italic')\n",
    "\n",
    "# Title for y axis.\n",
    "plt.ylabel(\"Number of specimens found\")\n",
    "\n",
    "# Title for chart.\n",
    "plt.title(\"Brachiopod fossils from locality #23\", weight='bold', color=(.5, .1, .1))\n",
    "plt.show()\n"
   ]
  },
  {
   "cell_type": "markdown",
   "metadata": {},
   "source": [
    "## Histograms\n",
    "\n",
    "Histograms are a way to summarize distributions. The distribution is split into categories or *bins* - usually of equal size. The size of the bins is arbitrary - whatever works best for the task at hand.\n",
    "\n",
    "The number of samples falling into each bin are counted - this is the frequency. They are then plotted as adjacent rectangles akin to a bar-chart. The profile of a histogram approximates probability distribution of the population."
   ]
  },
  {
   "cell_type": "markdown",
   "metadata": {},
   "source": [
    "# Exercise 5.2\n",
    "\n",
    "Generate a histogram from [qzpercentages.csv](https://github.com/ggorman/Introduction-to-stats-for-geoscientists/blob/gh-pages/data/qzpercentages.csv).\n",
    "\n",
    "Your histogram should include the following features:\n",
    "\n",
    "1. Label the x and y axis.\n",
    "2. Need to fix x-axis labels to make sure all bins are labelled.\n",
    "3. Need to fix y-axis ticks to avoid ‘0’ crashing into ’20’.\n",
    "4. Specify the number of bins.\n",
    "5. Increas the line thickness in your plot.\n",
    "6. Specify the colour.\n",
    "7. Add a title."
   ]
  },
  {
   "cell_type": "code",
   "execution_count": 12,
   "metadata": {
    "collapsed": false
   },
   "outputs": [],
   "source": [
    "# Solutions here..."
   ]
  },
  {
   "cell_type": "markdown",
   "metadata": {},
   "source": [
    "# Exercise 5.3\n",
    "\n",
    "Now that you have made a bar chart and a histogram, let's try making another simple statistical plot.\n",
    "A pie chart! As you are aware, pie charts are a simple way of showing the relative sizes of data in a\n",
    "given set. Pie charts are easy to make in matplotlib, and only require one function. Most functions in matplotlib use similar, if not identical, arguments to do certain things, like 'color' in the bar chart example. This can be used to decipher which arguments a function might take!\n",
    "\n",
    "Although there are no examples of pie charts in this page, it is relatively simple and can be found in the matplotlib docs [here](http://matplotlib.org/api/pyplot_api.html). The function is matplotlib.pylot.pie(...)\n",
    "\n",
    "Use the data below and:\n",
    "\n",
    "1. Make a pie chart\n",
    "2. Make the pie chart circular and not an ellipse\n",
    "3. Make the pie chart use the correct colours for the joke to work\n",
    "4. Rotate the chart such that the joke is clear\n",
    "5. Add labels to each section, such that anyone will get it\n",
    "6. Add a title as the icing on the cake\n",
    "\n",
    "**BONUS**\n",
    "7. 'explode' the small wedge, and give it shadow.\n",
    "\n",
    "**HINT**\n",
    "\n",
    "Start simple, and build up. REMEMBER: The online docs will give the function with ALL \n",
    "its possible arguments. However only those without an equals sign (e.g. plt.xxx(X,label=...)) are mandatory (X in this case). Those with an equals sign (label) are not required for the function to work, but allow for more\n",
    "customisation should you wish it.\n",
    "\n",
    "Most of the tricks you will use here are applicable on other plots and figures throughout this course, do not forget them as they can make your life easier later."
   ]
  },
  {
   "cell_type": "code",
   "execution_count": 13,
   "metadata": {
    "collapsed": false
   },
   "outputs": [],
   "source": [
    "import matplotlib.pyplot as plt\n",
    " \n",
    "# This is your data to plot\n",
    "data = np.array([['Pacman','not Pacman'],[270, 90]])\n"
   ]
  },
  {
   "cell_type": "code",
   "execution_count": null,
   "metadata": {
    "collapsed": true
   },
   "outputs": [],
   "source": []
  }
 ],
 "metadata": {
  "celltoolbar": "Raw Cell Format",
  "kernelspec": {
   "display_name": "Python 2",
   "language": "python",
   "name": "python2"
  },
  "language_info": {
   "codemirror_mode": {
    "name": "ipython",
    "version": 2
   },
   "file_extension": ".py",
   "mimetype": "text/x-python",
   "name": "python",
   "nbconvert_exporter": "python",
   "pygments_lexer": "ipython2",
   "version": "2.7.11"
  }
 },
 "nbformat": 4,
 "nbformat_minor": 0
}
