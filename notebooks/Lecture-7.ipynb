{
 "cells": [
  {
   "cell_type": "markdown",
   "metadata": {},
   "source": [
    "# Introduction to statistics for Geoscientists (with Python)\n",
    "### Lecturer: Gerard Gorman\n",
    "### Lecture 7: Hypothesis testing\n",
    "### URL: [http://ggorman.github.io/Introduction-to-stats-for-geoscientists/](http://ggorman.github.io/Introduction-to-stats-for-geoscientists/)"
   ]
  },
  {
   "cell_type": "markdown",
   "metadata": {},
   "source": [
    "## Inferential statistics\n",
    "\n",
    "Given the data below how do we answer questions such as - is the grain size higher in deposit B than deposit A?\n",
    "\n",
    "![grain size](http://ggorman.github.io/Introduction-to-stats-for-geoscientists/images/example-grain-size.png)\n",
    "\n",
    "Interested in whether energy levels were different in deposits A and B. This will bear on theories of how they formed. The sample from B has a higher mean, but is this just chance variation?\n",
    "\n",
    "To answer this question we:\n",
    "\n",
    "* Formulate formal hypotheses.\n",
    "* Apply approperiate statistical hypothesis test."
   ]
  },
  {
   "cell_type": "markdown",
   "metadata": {},
   "source": [
    "## Hypotheses\n",
    "\n",
    "We formulate two hypotheses:\n",
    "The *null hypothesis* (H0):\n",
    "\n",
    "> *There is no difference in mean maximum grain size for samples obtained from deposits A and B.*\n",
    "\n",
    "...and an *alternative hypothesis* (H1):\n",
    "\n",
    "> *The mean maximum grain size is higher in sample B than it is in sample A.*\n",
    "\n",
    "Only accept H1 if it is very unlikely that H0 can explain our observations - otherwise reject H1."
   ]
  },
  {
   "cell_type": "markdown",
   "metadata": {},
   "source": [
    "## Testing hypotheses\n",
    "\n",
    "Many different types of statistical tests exist:\n",
    "\n",
    "* To test different types of hypothesis.\n",
    "* To handle different types of data."
   ]
  },
  {
   "cell_type": "markdown",
   "metadata": {},
   "source": [
    "### Student’s T-test\n",
    "\n",
    "[The t-statistic was introduced in 1908 by William Sealy Gosset, a chemist working for the Guinness brewery in Dublin, Ireland (\"Student\" was his pen name).](http://en.wikipedia.org/wiki/Student%27s_t-test) Student’s T-test accesses the probability that two samples have same underlying mean. Python provides the method\n",
    "[scipy.stats.ttest_ind](http://docs.scipy.org/doc/scipy/reference/generated/scipy.stats.ttest_ind.html). This is a test for the null hypothesis that 2 independent samples have identical average (expected) values. This test assumes that the populations have identical variances.\n",
    "\n",
    "* Takes two arrays of values (i.e. two samples).\n",
    "* Returns *t-statistic*, describing how different means are.\n",
    "* Returns *p-value*, tells you the probability of observing what we did if the null hypothesis is true.\n",
    "\n",
    "In the above grain size example the t-statistic and p-values are -1.1 and 0.28 respectively. **Is a probability of 0.28 enough to reject H0?**"
   ]
  },
  {
   "cell_type": "markdown",
   "metadata": {},
   "source": [
    "## P-value\n",
    "\n",
    "The p-value is used to determine the likelihood of the null hypothesis were true - it is the probability of observing a more extreme test statistic in the direction of the alternative hypothesis. For example, if the p-value is very small, then it the null hypothesis is \"unlikely.\" If the p-value is larger than some preset threshold, then it is considered \"likely.\"\n",
    "\n",
    "Therefore, if the p-value is less than (or equal to) $\\alpha$, then the null hypothesis is rejected in favor of the alternative hypothesis. And, if the P-value is greater than $\\alpha$, then the null hypothesis is not rejected. Commonly the threshold is set at $p=0.05$, but it is arbitrary!\n",
    "\n",
    "The steps involved in using the P-value approach to conducting any hypothesis test are:\n",
    "\n",
    "* Specify the null and alternative hypotheses and choose the appropriate test.\n",
    "* Decide the significance level for the p-value, $\\alpha$.\n",
    "* Calculate the value of the test statistic and the p-value.\n",
    "* Consider, if the null hypothesis is true, what is the probability that we'd observe a more extreme test statistic in the direction of the alternative hypothesis than we did? Note how this question is equivalent to the question answered in criminal trials: \"If the defendant is innocent, what is the chance that we'd observe such extreme criminal evidence?\"\n",
    "* If the p-value is less than (or equal to) $\\alpha$, reject the null hypothesis in favor of the alternative hypothesis. Otherwise, accept the null hypothesis.\n",
    "\n",
    "> In 2012 chances are that you heard in the news the discovery of the Higgs boson. The phrase *five-sigma* was used to describe the strength of the discovery. This is a p-value of 3x10$^{-7}$. [Read more.](http://blogs.scientificamerican.com/observations/five-sigmawhats-that/)\n",
    "\n",
    "In the grain size example above the p-value is 0.28, which is far above the 0.05 significant level. Therefore, the result said to be *not significant* - not enough evidence to reject H0."
   ]
  },
  {
   "cell_type": "markdown",
   "metadata": {},
   "source": [
    "## Tails and significance levels\n",
    "\n",
    "**One-tailed test**: Form hypothesis H1: *The mean maximum grain size is higher in sample B than it is in sample A*. Now we are testing whether the mean of B is greater than mean of A, not different to the mean of A.\n",
    "\n",
    "The figure below illustrates the distribution of all possible t-values - the result is significant if value falls into blue region.\t\t\n",
    "\n",
    "![One tailed distribution](http://ggorman.github.io/Introduction-to-stats-for-geoscientists/images/example-one-tailed.png)\n",
    "\n",
    "**Two-tailed test**: Form hypothesis H1: *The mean maximum grain size is different in the two samples*. There are two possible ways it can be different - higher than *or* lower than. Two-tailed test has two *significance regions* - one in each tail - each half size of one-tailed significance region.\n",
    "\n",
    "![Two tailed distribution](http://ggorman.github.io/Introduction-to-stats-for-geoscientists/images/example-two-tailed.png)\n",
    "\n",
    "### Tails in practice\n",
    "\n",
    "1. Decide if your test is one or two-tailed BEFORE doing it!\n",
    "2. Values returned by [scipy.stats](http://docs.scipy.org/doc/scipy/reference/stats.html) functions (e.g. [ttest_ind](http://docs.scipy.org/doc/scipy/reference/generated/scipy.stats.ttest_ind.html#scipy.stats.ttest_ind)) are for two-tailed tests (mostly!)\n",
    "  1. If your test is two-tailed, there is no issue\n",
    "  2. If test is one-tailed, halve the p-value before interpreting it.\n",
    "In the example above the p-value was 0.28, but this is a two-tailed value while the test was one-tailed. The actual value for the test was 0.14. In this case it is still not significant (>0.05) but halving could easily make all the difference."
   ]
  },
  {
   "cell_type": "markdown",
   "metadata": {},
   "source": [
    "## More on the t-test.\n",
    "\n",
    "The T-test is the most widely used statistical test, but not always appropriate. It makes several assumptions.\n",
    "\n",
    "* Sensible results need reasonably large sample sizes.\n",
    "  * This applies to other tests too.\n",
    "* Assumes data in samples is normally distributed:\n",
    "  * May or may not really be true.\n",
    "  * If not, consider using non-parametric tests. "
   ]
  },
  {
   "cell_type": "markdown",
   "metadata": {},
   "source": [
    "## Non-parametric equivalents\n",
    "\n",
    "The most commonly used non-parametric test is the [Mann-Whitney U test](http://docs.scipy.org/doc/scipy/reference/generated/scipy.stats.mannwhitneyu.html#scipy.stats.mannwhitneyu).\n",
    "\n",
    "* Uses ranks of data (like Spearman’s correlation).\n",
    "* Does not require distributions of data to be normal.\n",
    "* Less powerful test (more false negatives) if distributions are normal (as all non-parametric tests).\n",
    "\n",
    "When a mathematical model is available the [Kolmorogov-Smirnov (K-S) test](http://docs.scipy.org/doc/scipy/reference/generated/scipy.stats.kstest.html#scipy.stats.kstest) is commonly used.\n",
    "\n",
    "* K-S test is for ‘goodness of fit’ – how well a distribution fits a mathematic model.\n",
    "* ‘Two-sample’ K-S test variant can be used as a non-parametric alternative to a t-test.\n",
    "* Tests more than just difference in means - tests other aspects of distribution shape.\n",
    "* Use to answer questions like 'do these two samples seem to come from the same underlying population'?"
   ]
  },
  {
   "cell_type": "markdown",
   "metadata": {},
   "source": [
    "## Correlation hypothesis tests\n",
    "\n",
    "We have already seen that that p-values can be obtained for correlations (Pearson or Spearman). We can test hypotheses of correlation with these.\n",
    "\n",
    "* H0 : ‘Dorset mark and end-of-year mark are not related’\n",
    "* H1 : ‘There is a correlation between Dorset mark and end-of-year Mark’\n",
    "\n",
    "This is a two-tailed test and we will use a 5% significance level.\n",
    "\n",
    "* Pearson R is 0.27, p=0.014 --- significant, therefore reject H0 in favor of H1.\n",
    "* Spearman R is 0.19, p=0.087 --- not significant, therefore accept H0.\n",
    "\n",
    "So, if we can use Pearson we can accept H1, but with Spearman we cannot - not enough evidence. We need to do a better job of deciding which to use!\n",
    "\t\t\t"
   ]
  },
  {
   "cell_type": "markdown",
   "metadata": {},
   "source": [
    "## Tests of normality\n",
    "\n",
    "Rather than guessing whether a distribution is normal, can we test for it instead?\n",
    "\n",
    "Yes - it just becomes another hypothesis test:\n",
    "\n",
    "* $H_0$ : 'Underlying distribution is normal.'\n",
    "* $H_1$ : 'Underlying distribution is not normal.'\n",
    "\n",
    "Many different tests of normality exist - no universal agreement on which is best. A good solution is *D’Agostino & Pearson combined test*, provided by Python via the method [scipy.stats.normaltest](http://docs.scipy.org/doc/scipy/reference/generated/scipy.stats.normaltest.html). This function tests the null hypothesis that a sample comes from a normal distribution.\n",
    "\n",
    "This is also a good opportunity to clearly illustrate the use of the p-value using two very clear test cases.  "
   ]
  },
  {
   "cell_type": "code",
   "execution_count": 1,
   "metadata": {
    "collapsed": false
   },
   "outputs": [
    {
     "name": "stdout",
     "output_type": "stream",
     "text": [
      "Populating the interactive namespace from numpy and matplotlib\n"
     ]
    },
    {
     "name": "stderr",
     "output_type": "stream",
     "text": [
      "WARNING: pylab import has clobbered these variables: ['pylab']\n",
      "`%matplotlib` prevents importing * from pylab and numpy\n"
     ]
    },
    {
     "data": {
      "image/png": "[encoded data removed]",
      "text/plain": [
       "<matplotlib.figure.Figure at 0x10b09ef10>"
      ]
     },
     "metadata": {},
     "output_type": "display_data"
    }
   ],
   "source": [
    "import numpy as np\n",
    "from scipy import stats\n",
    "import pylab\n",
    "%pylab inline\n",
    "\n",
    "# Create a normal distribution.\n",
    "values = stats.norm.rvs(size=10000)\n",
    "statistic, pvalue = stats.normaltest(values)\n",
    "pylab.hist(values)\n",
    "pylab.legend((\"p-value=%.2g\"%pvalue, ))\n",
    "pylab.show()"
   ]
  },
  {
   "cell_type": "code",
   "execution_count": 2,
   "metadata": {
    "collapsed": false
   },
   "outputs": [
    {
     "name": "stdout",
     "output_type": "stream",
     "text": [
      "0 p-value =  0.423425025909\n",
      "1 p-value =  0.861431115508\n",
      "2 p-value =  0.33198825421\n",
      "3 p-value =  0.809116358921\n",
      "4 p-value =  0.22082687618\n",
      "5 p-value =  0.114711297474\n",
      "6 p-value =  0.69338335356\n",
      "7 p-value =  0.402152970288\n",
      "8 p-value =  0.90349518902\n",
      "9 p-value =  0.566455153867\n"
     ]
    }
   ],
   "source": [
    "# However, notice how it varies for different sets of data.\n",
    "# Even with perfect data you can get false positives!\n",
    "for i in range(10):\n",
    "    values = stats.norm.rvs(size=1000)\n",
    "    statistic, pvalue = stats.normaltest(values)\n",
    "    print i, \"p-value = \", pvalue"
   ]
  },
  {
   "cell_type": "code",
   "execution_count": 3,
   "metadata": {
    "collapsed": false
   },
   "outputs": [
    {
     "data": {
      "image/png": "[encoded data removed]",
      "text/plain": [
       "<matplotlib.figure.Figure at 0x103e556d0>"
      ]
     },
     "metadata": {},
     "output_type": "display_data"
    }
   ],
   "source": [
    "# However, the degree of varability for the p-value is put into context\n",
    "# when you compare it with other kinds of distributions - e.g. the exponential distribution.\n",
    "values = stats.expon.rvs(size=1000)\n",
    "statistic, pvalue = stats.normaltest(values)\n",
    "pylab.hist(values)\n",
    "pylab.legend((\"p-value=%.2g\"%pvalue, ))\n",
    "pylab.show()"
   ]
  },
  {
   "cell_type": "markdown",
   "metadata": {},
   "source": [
    "# Demo - are the marks distributions normal in first year marks example?"
   ]
  },
  {
   "cell_type": "code",
   "execution_count": 4,
   "metadata": {
    "collapsed": false
   },
   "outputs": [
    {
     "name": "stdout",
     "output_type": "stream",
     "text": [
      "('field_mark', 'overall_year')\n"
     ]
    }
   ],
   "source": [
    "# Read in the records.\n",
    "record = np.recfromcsv(\"./first_year_marks.csv\") \n",
    "\n",
    "print record.dtype.names"
   ]
  },
  {
   "cell_type": "code",
   "execution_count": 5,
   "metadata": {
    "collapsed": false
   },
   "outputs": [
    {
     "name": "stdout",
     "output_type": "stream",
     "text": [
      "Skew =  11.9087181796\n",
      "H0 - field marks come from a normal distribution:  Reject in favor of H1.\n"
     ]
    },
    {
     "data": {
      "image/png": "[encoded data removed]",
      "text/plain": [
       "<matplotlib.figure.Figure at 0x103e55c50>"
      ]
     },
     "metadata": {},
     "output_type": "display_data"
    }
   ],
   "source": [
    "field_mark = np.array(record[\"field_mark\"], dtype=float)\n",
    "\n",
    "k2, p = stats.normaltest(field_mark)\n",
    "print \"Skew = \", k2\n",
    "print \"H0 - field marks come from a normal distribution: \",\n",
    "if p<0.05:\n",
    "    print \"Reject in favor of H1.\"\n",
    "else:\n",
    "    print \"Accept.\"\n",
    "\n",
    "pylab.hist(field_mark, bins=5)\n",
    "pylab.legend((\"p-value=%.2g\"%p, ))\n",
    "pylab.show()"
   ]
  },
  {
   "cell_type": "code",
   "execution_count": 6,
   "metadata": {
    "collapsed": false
   },
   "outputs": [
    {
     "name": "stdout",
     "output_type": "stream",
     "text": [
      "Skew =  0.0402331177378\n",
      "H0 - overall year marks come from a normal distribution:  Accept.\n"
     ]
    },
    {
     "data": {
      "image/png": "[encoded data removed]",
      "text/plain": [
       "<matplotlib.figure.Figure at 0x1106f8490>"
      ]
     },
     "metadata": {},
     "output_type": "display_data"
    }
   ],
   "source": [
    "overall_year = np.array(record[\"overall_year\"], dtype=float)\n",
    "\n",
    "k2, p = stats.normaltest(overall_year)\n",
    "print \"Skew = \", k2\n",
    "print \"H0 - overall year marks come from a normal distribution: \",\n",
    "if p<0.05:\n",
    "    print \"Reject in favor of H1.\"\n",
    "else:\n",
    "    print \"Accept.\"\n",
    "\n",
    "pylab.hist(overall_year, bins=5)\n",
    "pylab.legend((\"p-value=%.2g\"%p, ))\n",
    "pylab.show()"
   ]
  },
  {
   "cell_type": "markdown",
   "metadata": {},
   "source": [
    "As at least one of these datasets does not have a normal distribution we should use Spearman's correlation test."
   ]
  },
  {
   "cell_type": "markdown",
   "metadata": {},
   "source": [
    "# Exercise 7.1: Hypothesis Testing\n",
    "\n",
    "1. I have two sets of trilobite fossils from different localities. I think they are from the same species but want some quantitative confirmation – on the basis of their mean length:width ratio ([triloshape1.csv](https://raw.githubusercontent.com/ggorman/Introduction-to-stats-for-geoscientists/gh-pages/data/triloshape1.csv), [triloshape2.csv](https://raw.githubusercontent.com/ggorman/Introduction-to-stats-for-geoscientists/gh-pages/data/triloshape2.csv)) is there evidence that they are different?\n",
    "2. I have measured mica percentages in samples of igneous rocks from two different localities ([micapercent1.csv](https://raw.githubusercontent.com/ggorman/Introduction-to-stats-for-geoscientists/gh-pages/data/micapercent1.csv), [micapercent2.csv](https://raw.githubusercontent.com/ggorman/Introduction-to-stats-for-geoscientists/gh-pages/data/micapercent2.csv)). The mean mica percentage is lower in the second locality and I have a geological theory that may explain this, but I first need to rule out the possibility that the lower mica content is just due to chance.\n",
    "\n",
    "In each case construct (i.e. actually write down) your two hypotheses, decide from how they are worded whether they are one-tailed or two-tailed, then use your program to assess which you should accept.\n",
    "\n",
    "Hints:\n",
    "\n",
    "* Test data sets for normality (i.e. do they have  normal distribution). Use the D’Agostino & Pearson test to provide probabilities of normality.\n",
    "* Test whether their means differ significantly. When testing if the means are different you should use use either a two-tailed Mann-Whitney p value, or a two-tailed T-test p value depending on the result of the normality test. Remember that the scipy.stats Mann-Whitney function returns a one-tailed p-value.\n",
    "\n"
   ]
  },
  {
   "cell_type": "code",
   "execution_count": 7,
   "metadata": {
    "collapsed": false
   },
   "outputs": [],
   "source": [
    "# Solution here"
   ]
  },
  {
   "cell_type": "markdown",
   "metadata": {},
   "source": [
    "# Practical 7.2: Kolmogorov-Smirnov Test\n",
    "\n",
    "* Use the triolbite data above and perform a two-sided Kolmogorov-Smirnov test (two samples) on whether they come from the same distribution, or not.\n",
    "* Test whether each trilobite data comes from an exponential distribution or not. (You will need to generate an exponential distribution for this question, and normalise all the distributions first)\n",
    "\n",
    "**NB** : The necessary function CAN be found in scipy.stats [here](http://docs.scipy.org/doc/scipy-0.15.1/reference/generated/scipy.stats.ks_2samp.html)\n",
    "\n",
    "## BONUS (Harder)\n",
    "\n",
    "* Plot the cumulative distribution functions (CDF) for the trilobite data in one figure as linegraphs.\n",
    "* Plot an exponential CDF on top of this as well (with a dashed line)\n",
    "* Was there ever any suspicion the data might be exponential?\n",
    "\n",
    "**HINT** histograms have a cumulative argument which you can make use of."
   ]
  },
  {
   "cell_type": "code",
   "execution_count": null,
   "metadata": {
    "collapsed": false
   },
   "outputs": [],
   "source": [
    "\n"
   ]
  }
 ],
 "metadata": {
  "kernelspec": {
   "display_name": "Python 2",
   "language": "python",
   "name": "python2"
  },
  "language_info": {
   "codemirror_mode": {
    "name": "ipython",
    "version": 2
   },
   "file_extension": ".py",
   "mimetype": "text/x-python",
   "name": "python",
   "nbconvert_exporter": "python",
   "pygments_lexer": "ipython2",
   "version": "2.7.11"
  }
 },
 "nbformat": 4,
 "nbformat_minor": 0
}
