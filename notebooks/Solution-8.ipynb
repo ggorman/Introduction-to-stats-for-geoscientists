{
 "metadata": {
  "name": "",
  "signature": "sha256:40b24c6d33c53093599ff9c43252bb2c41f39ed1650010bb0a20528595e5ac72"
 },
 "nbformat": 3,
 "nbformat_minor": 0,
 "worksheets": [
  {
   "cells": [
    {
     "cell_type": "markdown",
     "metadata": {},
     "source": [
      "# Chi-squared Test\n",
      "\n",
      "##Determine whether marks classifications for a course are atypical\n",
      "\n",
      "Analysis of 2000 overall course marks from ESESIS shows that the typical marks breakdown is as follows:\n",
      "\n",
      "Fail: 4.3%\t3rd: 9.5%\t2ii: 18.4%\t2i: 38.4%\t1st: 29.4%\n",
      "\n",
      "Now consider the following distribution of results from two different groups of students:\n",
      "\n",
      "|Grade  | Students - group 1| Students - group 2|\n",
      "|:------|:------------------|:------------------|\n",
      "|Failed | 3                 | 0                 |\n",
      "|3rd    | 10                | 8                 |\n",
      "|2ii    | 23                | 7                 |\n",
      "|2i     | 30                |25                 |\n",
      "|1st    | 20                |39                 |\n",
      "\n",
      "**Consider each group in turn - are their results atypical?**"
     ]
    },
    {
     "cell_type": "code",
     "collapsed": false,
     "input": [
      "import numpy as np\n",
      "\n",
      "# As we want to do this twice, lets write a function.\n",
      "def marks_atypical(Obs):\n",
      "    # Observations \n",
      "    total = np.sum(Obs)\n",
      "\n",
      "    # Typical distribution of marks.\n",
      "    typical = np.array([4.3, 9.5, 18.4, 38.4, 29.4])\n",
      "\n",
      "    # Expected marks\n",
      "    Exp = total*typical/100.0\n",
      "\n",
      "    # Check assumptions for the use of this test.\n",
      "    greater_than_5 = 0\n",
      "    for val in Exp:\n",
      "        # Check all values are greater than 1.\n",
      "        assert val > 1\n",
      "        if val >= 5:\n",
      "            greater_than_5 += 1\n",
      "    # Check at least 20% are greater than 5.\n",
      "    assert greater_than_5 > 0.2*Exp.size\n",
      "\n",
      "    from scipy import stats\n",
      "    s_statistic, p_value = stats.chisquare(Obs,Exp)\n",
      "    \n",
      "    if p_value < 0.05:\n",
      "        return True # ie the distributions are not the same\n",
      "    else:\n",
      "        return False\n",
      "\n",
      "Obs = np.array([3, 10, 23, 30, 20])\n",
      "print \"Dataset: \", Obs\n",
      "if marks_atypical(Obs):\n",
      "    print \"Marks are atypical.\"\n",
      "else:\n",
      "    print \"Marks are typical.\"\n",
      "\n",
      "Obs = np.array([0, 8, 7, 25, 39])\n",
      "print \"Dataset: \", Obs\n",
      "if marks_atypical(Obs):\n",
      "    print \"Marks are atypical.\"\n",
      "else:\n",
      "    print \"Marks are typical.\"\n",
      "\n"
     ],
     "language": "python",
     "metadata": {},
     "outputs": [
      {
       "output_type": "stream",
       "stream": "stdout",
       "text": [
        "Dataset:  [ 3 10 23 30 20]\n",
        "Marks are typical.\n",
        "Dataset:  [ 0  8  7 25 39]\n",
        "Marks are atypical.\n"
       ]
      }
     ],
     "prompt_number": 13
    },
    {
     "cell_type": "code",
     "collapsed": false,
     "input": [],
     "language": "python",
     "metadata": {},
     "outputs": []
    }
   ],
   "metadata": {}
  }
 ]
}